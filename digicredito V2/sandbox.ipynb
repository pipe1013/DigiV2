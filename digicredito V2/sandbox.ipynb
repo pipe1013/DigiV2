{
 "cells": [
  {
   "cell_type": "code",
   "execution_count": null,
   "metadata": {},
   "outputs": [],
   "source": [
    "import requests\n",
    "import crdncls as cr\n",
    "import psycopg2\n",
    "import logging\n",
    "\n",
    "logging.basicConfig(level=logging.DEBUG, format='%(asctime)s - %(levelname)s - %(message)s')\n",
    "handler = logging.FileHandler('pruebaRetanqueo203.log')\n",
    "handler.setLevel(logging.DEBUG)\n",
    "handler.setFormatter(logging.Formatter('%(asctime)s|%(levelname)s|%(message)s'))\n",
    "logging.getLogger('').addHandler(handler)\n",
    "\n",
    "logging.info(\"Esta es la prueba para la oficina 203 poder verificar que si un credito fondeado por cualquier fondeador y si tiene al menos un pago se pueda retanquear\")\n",
    "\n",
    "cr.token\n",
    "heads = open(\"./noms.txt\", \"r\")\n",
    "head = {'Authorization': 'Bearer {}'.format(heads.read())}\n",
    "\n",
    "conexcion = psycopg2.connect(user=cr.user, \n",
    "                             password=cr.password, \n",
    "                             host=cr.host, \n",
    "                             port=cr.port, database=cr.database) \n",
    "cursor = conexcion.cursor()\n",
    "cursor.execute(r\"select count(cf.id_credito), cl.identificacion FROM(SELECT * FROM obtener_creditos_fondeados(current_date)) cf INNER join cliente cl ON cl.id = cf.id_cliente where cf.id_fondeador  not IN (0) group by cl.identificacion limit 500;\")\n",
    "data = cursor.fetchall()\n",
    "cursor.close()\n",
    "conexcion.close()\n",
    "\n",
    "for i in data:\n",
    "    logging.info(f\"Para el cliente {i[1]} verificamos si tiene retanqueos:\")\n",
    "    body = {\"tipoIdentificacion\": \"CC\",\"identificacion\": i[1]}\n",
    "    url = (f'https://development.excelcredit.co/instancia2/api/excelcredit/onboardingservices/clientes/creditos-activos/203')\n",
    "    response = requests.post(url, headers=head, json=body)\n",
    "    logging.debug(response.text)\n",
    "    if len(response.json()) != 0:\n",
    "        logging.info(f\"El cliente {i[1]} si tiene {len(response.json())} crédito activos para la oficina 203\")\n",
    "        logging.info(f\"Los créditos activos son:\")\n",
    "        for j in response.json():\n",
    "            idCredito = j['id']\n",
    "            conexcion = psycopg2.connect(user=cr.user, \n",
    "                             password=cr.password, \n",
    "                             host=cr.host, \n",
    "                             port=cr.port, database=cr.database) \n",
    "            cursor = conexcion.cursor()\n",
    "            cursor.execute(f\"select cf.id_credito, cf.id_fondeador, cf.estado_credito, cl.identificacion, cf.id_cliente, cf.es_vendido, public.verificar_incorporacion_primera_cuota(cf.id_credito) as tiene_incorporacion FROM(SELECT * FROM obtener_creditos_fondeados(current_date)) cf INNER join cliente cl ON cl.id = cf.id_cliente where cf.id_fondeador  not IN (0) and cf.id_credito  = {idCredito};\")\n",
    "            data = cursor.fetchall()\n",
    "            # logging.info(data)\n",
    "            logging.info(f\"idCredito: {data[0][0]}, fondeador: {data[0][1]}, estadoCredito: {data[0][2]}, identificacion: {data[0][3]}, esVendido: {data[0][5]}, tieneIncorporacion: {data[0][6]}\")\n",
    "            cursor.close()\n",
    "            conexcion.close()\n",
    "    else:\n",
    "        logging.info(f\"El cliente {i[1]} no tiene créditos activos para la oficina 203\")\n",
    "\n",
    "        "
   ]
  },
  {
   "cell_type": "code",
   "execution_count": 3,
   "metadata": {},
   "outputs": [
    {
     "name": "stdout",
     "output_type": "stream",
     "text": [
      "Jwt is expired\n"
     ]
    }
   ],
   "source": [
    "import requests\n",
    "import crdncls as cr\n",
    "\n",
    "\n",
    "cr.token\n",
    "heads = open(\"./noms.txt\", \"r\")\n",
    "head = {'Authorization': 'Bearer {}'.format(heads.read())}\n",
    "\n",
    "data = {\"idPagaduria\":401,\"idLineaCredito\":1,\"idOficina\":5,\"actividadCliente\":\"PENSIONADO\",\"tasa\":2.09,\"plazo\":72,\"monto\":17000000,\"diasInteresesIniciales\":120,\"ingresos\":3000000,\"cliente\":{\"identificacion\":\"29770779\",\"fechaNacimiento\":\"1964-06-08\"},\"descuentosLey\":10000,\"descuentosNomina\":10000,\"carteras\":[],\"departamento\":\"CO>Antioquia\",\"genero\":\"F\",\"nivelEducativo\":\"TECNICO\",\"tipoContrato\":\"Asignación de Retiro\",\"productPricing\":{\"rate\":2.09,\"suretyBond\":7.87,\"creditStudy\":4.32,\"productGroupId\":4,\"deterioration\":0.010698051080747086,\"rates\":[{\"rate\":2.09,\"suretyBond\":7.87,\"creditStudy\":4.32},{\"rate\":2.14,\"suretyBond\":8.77,\"creditStudy\":3.42},{\"rate\":2.19,\"suretyBond\":9.67,\"creditStudy\":2.52},{\"rate\":2.24,\"suretyBond\":10.57,\"creditStudy\":1.62},{\"rate\":2.29,\"suretyBond\":11.43,\"creditStudy\":0.76},{\"rate\":2.37,\"suretyBond\":12.19,\"creditStudy\":0}],\"groupNumber\":4},\"totalActivos\":\"30000000\",\"estrato\":\"Estrato 3\",\"simulador1\":True}\n",
    "\n",
    "url = (f'https://development.excelcredit.co/instancia2/api/excelcredit/onboardingservices/simulacion/simular')\n",
    "response = requests.post(url, headers=head, json=data)\n",
    "\n",
    "print(response.text)"
   ]
  }
 ],
 "metadata": {
  "kernelspec": {
   "display_name": "Python 3",
   "language": "python",
   "name": "python3"
  },
  "language_info": {
   "codemirror_mode": {
    "name": "ipython",
    "version": 3
   },
   "file_extension": ".py",
   "mimetype": "text/x-python",
   "name": "python",
   "nbconvert_exporter": "python",
   "pygments_lexer": "ipython3",
   "version": "3.11.4"
  },
  "orig_nbformat": 4
 },
 "nbformat": 4,
 "nbformat_minor": 2
}
